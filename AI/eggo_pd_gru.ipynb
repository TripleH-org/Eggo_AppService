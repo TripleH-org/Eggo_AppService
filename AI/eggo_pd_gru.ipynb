{
 "cells": [
  {
   "cell_type": "code",
   "execution_count": 1,
   "id": "f2bbadee",
   "metadata": {},
   "outputs": [],
   "source": [
    "import pymysql\n",
    "\n",
    "import pandas as pd\n",
    "import logging\n",
    "import warnings\n",
    "warnings.filterwarnings(\"ignore\")\n",
    "\n",
    "import os\n",
    "import sys\n",
    "from glob import glob\n",
    "\n",
    "from matplotlib import pyplot as plt\n",
    "import seaborn as sns\n",
    "import keras\n",
    "from keras.models import Sequential\n",
    "from keras.layers import GRU, LSTM, Dropout, Dense\n",
    "from keras.callbacks import EarlyStopping, ModelCheckpoint\n",
    "\n",
    "import tensorflow as tf\n",
    "\n",
    "import numpy as np\n",
    "np.random.seed(42)\n",
    "\n",
    "from datetime import datetime, timedelta\n",
    "import pickle\n",
    "\n",
    "def mape_not_zero(y_true, y_pred):\n",
    "    mape = 0\n",
    "    for t, p in zip(y_true, y_pred):\n",
    "        if t != 0:\n",
    "            mape += np.abs((t - p) / t)\n",
    "        elif p != 0:\n",
    "            mape += np.abs((t - p) / p)\n",
    "\n",
    "    mape /= len(y_true)\n",
    "    return np.mean(mape) * 100\n",
    "\n",
    "def rmse(y_true, y_pred):\n",
    "    mse = (np.square(y_true - y_pred)).mean(axis=0)\n",
    "    return np.sqrt(mse) "
   ]
  },
  {
   "cell_type": "code",
   "execution_count": 2,
   "id": "b6815ed7",
   "metadata": {
    "scrolled": true
   },
   "outputs": [],
   "source": [
    "# from sklearn.preprocessing import MinMaxScaler\n",
    "\n",
    "# scaler=MinMaxScaler()\n",
    "# df = pd.read_csv(\"/Users/kjh001/z_eggo/weather.csv\", encoding='cp949')\n",
    "# scale_cols=['temp','humi','wind','vol']\n",
    "# df_scaled_temp=scaler.fit_transform(df['temp'])\n",
    "# df_scaled_humi=scaler.fit_transform(df['humi'])\n",
    "# df_scaled_wind=scaler.fit_transform(df['wind'])\n",
    "# df_scaled_vol=scaler.fit_transform(df['vol'])\n",
    "\n",
    "# df_scaled=pd.DataFrame(df_scaled_temp,df_scaled_humi,df_scaled_wind,df_scaled_vol)\n",
    "# df_scaled.columns=scale_cols\n",
    "# # print(df_scaled)\n"
   ]
  },
  {
   "cell_type": "code",
   "execution_count": 3,
   "id": "bec7d989",
   "metadata": {},
   "outputs": [
    {
     "name": "stdout",
     "output_type": "stream",
     "text": [
      "          temp    humi      wind       vol\n",
      "0     0.200000  0.5625  0.289941  0.243946\n",
      "1     0.200000  0.5625  0.289941  0.244930\n",
      "2     0.200000  0.5625  0.289941  0.251231\n",
      "3     0.200000  0.5625  0.289941  0.244733\n",
      "4     0.155556  0.6875  0.106509  0.240992\n",
      "...        ...     ...       ...       ...\n",
      "8755  0.177778  0.5625  0.195266  0.011223\n",
      "8756  0.177778  0.5625  0.195266  0.012404\n",
      "8757  0.177778  0.5625  0.195266  0.011223\n",
      "8758  0.155556  0.6875  0.153846  0.011026\n",
      "8759  0.155556  0.6875  0.153846  0.010238\n",
      "\n",
      "[8760 rows x 4 columns]\n"
     ]
    }
   ],
   "source": [
    "from sklearn.preprocessing import MinMaxScaler\n",
    "\n",
    "scaler=MinMaxScaler()\n",
    "df = pd.read_csv(\"/Users/kjh001/z_eggo/weather.csv\", encoding='cp949')\n",
    "scale_cols=['temp','humi','wind','vol']\n",
    "df_scaled=scaler.fit_transform(df[scale_cols])\n",
    "\n",
    "\n",
    "df_scaled=pd.DataFrame(df_scaled)\n",
    "df_scaled.columns=scale_cols\n",
    "print(df_scaled)\n"
   ]
  },
  {
   "cell_type": "code",
   "execution_count": 4,
   "id": "6c385b61",
   "metadata": {},
   "outputs": [],
   "source": [
    "train=df_scaled[:7008]\n",
    "test=df_scaled[7008:]"
   ]
  },
  {
   "cell_type": "code",
   "execution_count": 5,
   "id": "b44418df",
   "metadata": {},
   "outputs": [],
   "source": [
    "def make_dataset(data,label,size=2):\n",
    "    feature_list=[]\n",
    "    label_list=[]\n",
    "    for i in range(len(data)-size):\n",
    "        feature_list.append(np.array(data.iloc[i:i+size]))\n",
    "        label_list.append(np.array(label.iloc[i+size]))\n",
    "    return np.array(feature_list),np.array(label_list)"
   ]
  },
  {
   "cell_type": "code",
   "execution_count": 6,
   "id": "39af29f9",
   "metadata": {},
   "outputs": [
    {
     "name": "stdout",
     "output_type": "stream",
     "text": [
      "(5604, 2, 3) (1402, 2, 3)\n",
      "(1750, 2, 3) (1750, 1)\n"
     ]
    }
   ],
   "source": [
    "feature_cols=['temp','humi','wind']\n",
    "label_cols=['vol']\n",
    "\n",
    "train_feature = train[feature_cols]\n",
    "train_label = train[label_cols]\n",
    "test_feature = test[feature_cols]\n",
    "test_label = test[label_cols]\n",
    "\n",
    "train_feature, train_label = make_dataset(train_feature,train_label,2)\n",
    "\n",
    "from sklearn.model_selection import train_test_split\n",
    "\n",
    "x_train,x_valid,y_train,y_valid=train_test_split(train_feature,train_label,test_size=0.2)\n",
    "print(x_train.shape, x_valid.shape)\n",
    "\n",
    "test_feature, test_label = make_dataset(test_feature,test_label,2)\n",
    "print(test_feature.shape, test_label.shape)"
   ]
  },
  {
   "cell_type": "code",
   "execution_count": 7,
   "id": "74d4915e",
   "metadata": {},
   "outputs": [],
   "source": [
    "# model=Sequential()\n",
    "# model.add(LSTM(32,\n",
    "#                input_shape=(train_feature.shape[1],train_feature.shape[2]),\n",
    "#                activation='relu',return_sequences=False))\n",
    "# model.add(Dense(1))\n",
    "# model.summary()"
   ]
  },
  {
   "cell_type": "code",
   "execution_count": 8,
   "id": "a4c56347",
   "metadata": {},
   "outputs": [
    {
     "name": "stdout",
     "output_type": "stream",
     "text": [
      "Metal device set to: Apple M1\n",
      "WARNING:tensorflow:Layer gru will not use cuDNN kernels since it doesn't meet the criteria. It will use a generic GPU kernel as fallback when running on GPU.\n"
     ]
    },
    {
     "name": "stderr",
     "output_type": "stream",
     "text": [
      "2022-05-25 00:17:42.248103: I tensorflow/core/common_runtime/pluggable_device/pluggable_device_factory.cc:305] Could not identify NUMA node of platform GPU ID 0, defaulting to 0. Your kernel may not have been built with NUMA support.\n",
      "2022-05-25 00:17:42.248335: I tensorflow/core/common_runtime/pluggable_device/pluggable_device_factory.cc:271] Created TensorFlow device (/job:localhost/replica:0/task:0/device:GPU:0 with 0 MB memory) -> physical PluggableDevice (device: 0, name: METAL, pci bus id: <undefined>)\n"
     ]
    },
    {
     "name": "stdout",
     "output_type": "stream",
     "text": [
      "WARNING:tensorflow:Layer gru_1 will not use cuDNN kernels since it doesn't meet the criteria. It will use a generic GPU kernel as fallback when running on GPU.\n",
      "Model: \"sequential\"\n",
      "_________________________________________________________________\n",
      " Layer (type)                Output Shape              Param #   \n",
      "=================================================================\n",
      " gru (GRU)                   (1, 2, 32)                3552      \n",
      "                                                                 \n",
      " gru_1 (GRU)                 (1, 16)                   2400      \n",
      "                                                                 \n",
      " dense (Dense)               (1, 1)                    17        \n",
      "                                                                 \n",
      "=================================================================\n",
      "Total params: 5,969\n",
      "Trainable params: 5,969\n",
      "Non-trainable params: 0\n",
      "_________________________________________________________________\n"
     ]
    }
   ],
   "source": [
    "model=Sequential()\n",
    "model.add(GRU(32, batch_input_shape=(1, 2, 3),\n",
    "              stateful=True, return_sequences=True,\n",
    "              dropout=.1, recurrent_dropout=.2))  \n",
    "model.add(GRU(16, stateful=True,\n",
    "              dropout=.2, recurrent_dropout=.5))  \n",
    "model.add(Dense(1))\n",
    "model.summary()"
   ]
  },
  {
   "cell_type": "code",
   "execution_count": 9,
   "id": "a35aa2a1",
   "metadata": {
    "scrolled": true
   },
   "outputs": [
    {
     "name": "stdout",
     "output_type": "stream",
     "text": [
      "Epoch 1/100\n"
     ]
    },
    {
     "name": "stderr",
     "output_type": "stream",
     "text": [
      "2022-05-25 00:17:42.843158: W tensorflow/core/platform/profile_utils/cpu_utils.cc:128] Failed to get CPU frequency: 0 Hz\n",
      "2022-05-25 00:17:46.466421: I tensorflow/core/grappler/optimizers/custom_graph_optimizer_registry.cc:113] Plugin optimizer for device_type GPU is enabled.\n"
     ]
    },
    {
     "name": "stdout",
     "output_type": "stream",
     "text": [
      "5604/5604 [==============================] - ETA: 0s - loss: 0.0058"
     ]
    },
    {
     "name": "stderr",
     "output_type": "stream",
     "text": [
      "2022-05-25 00:27:14.595225: I tensorflow/core/grappler/optimizers/custom_graph_optimizer_registry.cc:113] Plugin optimizer for device_type GPU is enabled.\n"
     ]
    },
    {
     "name": "stdout",
     "output_type": "stream",
     "text": [
      "5604/5604 [==============================] - 611s 108ms/step - loss: 0.0058 - val_loss: 0.0642\n",
      "Epoch 2/100\n",
      "5604/5604 [==============================] - 716s 128ms/step - loss: 0.0050 - val_loss: 0.0553\n",
      "Epoch 3/100\n",
      "5604/5604 [==============================] - 692s 123ms/step - loss: 0.0048 - val_loss: 0.0397\n",
      "Epoch 4/100\n",
      "5604/5604 [==============================] - 657s 117ms/step - loss: 0.0048 - val_loss: 0.0178\n",
      "Epoch 5/100\n",
      "5604/5604 [==============================] - 537s 96ms/step - loss: 0.0047 - val_loss: 0.0121\n",
      "Epoch 6/100\n",
      "5604/5604 [==============================] - 537s 96ms/step - loss: 0.0047 - val_loss: 0.0111\n",
      "Epoch 7/100\n",
      "5604/5604 [==============================] - 447s 80ms/step - loss: 0.0047 - val_loss: 0.0069\n",
      "Epoch 8/100\n",
      "5604/5604 [==============================] - 358s 64ms/step - loss: 0.0046 - val_loss: 0.0065\n",
      "Epoch 9/100\n",
      "5604/5604 [==============================] - 382s 68ms/step - loss: 0.0047 - val_loss: 0.0064\n",
      "Epoch 10/100\n",
      "5604/5604 [==============================] - 3167s 565ms/step - loss: 0.0046 - val_loss: 0.0056\n",
      "Epoch 11/100\n",
      "5604/5604 [==============================] - 5017s 895ms/step - loss: 0.0046 - val_loss: 0.0064\n",
      "Epoch 12/100\n",
      "5604/5604 [==============================] - 4990s 891ms/step - loss: 0.0046 - val_loss: 0.0050\n",
      "Epoch 13/100\n",
      "5604/5604 [==============================] - 3033s 541ms/step - loss: 0.0046 - val_loss: 0.0051\n",
      "Epoch 14/100\n",
      "5604/5604 [==============================] - 4150s 741ms/step - loss: 0.0046 - val_loss: 0.0046\n",
      "Epoch 15/100\n",
      "5604/5604 [==============================] - 5041s 900ms/step - loss: 0.0046 - val_loss: 0.0049\n",
      "Epoch 16/100\n",
      "5604/5604 [==============================] - 5366s 958ms/step - loss: 0.0046 - val_loss: 0.0051\n",
      "Epoch 17/100\n",
      "5604/5604 [==============================] - 2399s 428ms/step - loss: 0.0046 - val_loss: 0.0047\n",
      "Epoch 18/100\n",
      "5604/5604 [==============================] - 330s 59ms/step - loss: 0.0046 - val_loss: 0.0044\n",
      "Epoch 19/100\n",
      "5604/5604 [==============================] - 343s 61ms/step - loss: 0.0046 - val_loss: 0.0044\n",
      "Epoch 20/100\n",
      "5604/5604 [==============================] - 2693s 481ms/step - loss: 0.0046 - val_loss: 0.0044\n",
      "Epoch 21/100\n",
      "5604/5604 [==============================] - 521s 93ms/step - loss: 0.0046 - val_loss: 0.0044\n",
      "Epoch 22/100\n",
      "5604/5604 [==============================] - 533s 95ms/step - loss: 0.0046 - val_loss: 0.0047\n",
      "Epoch 23/100\n",
      "5604/5604 [==============================] - 3060s 546ms/step - loss: 0.0046 - val_loss: 0.0044\n",
      "Epoch 24/100\n",
      "5604/5604 [==============================] - 538s 96ms/step - loss: 0.0046 - val_loss: 0.0044\n",
      "Epoch 25/100\n",
      "5604/5604 [==============================] - 557s 99ms/step - loss: 0.0046 - val_loss: 0.0043\n",
      "Epoch 26/100\n",
      "5604/5604 [==============================] - 558s 100ms/step - loss: 0.0046 - val_loss: 0.0044\n",
      "Epoch 27/100\n",
      "5604/5604 [==============================] - 569s 102ms/step - loss: 0.0046 - val_loss: 0.0044\n",
      "Epoch 28/100\n",
      "5604/5604 [==============================] - 541s 97ms/step - loss: 0.0046 - val_loss: 0.0043\n",
      "Epoch 29/100\n",
      "5604/5604 [==============================] - 552s 98ms/step - loss: 0.0046 - val_loss: 0.0049\n",
      "Epoch 30/100\n",
      "5604/5604 [==============================] - 545s 97ms/step - loss: 0.0045 - val_loss: 0.0044\n",
      "Epoch 31/100\n",
      "5604/5604 [==============================] - 565s 101ms/step - loss: 0.0046 - val_loss: 0.0043\n",
      "Epoch 32/100\n",
      "5604/5604 [==============================] - 551s 98ms/step - loss: 0.0045 - val_loss: 0.0043\n",
      "Epoch 33/100\n",
      "5604/5604 [==============================] - 564s 101ms/step - loss: 0.0046 - val_loss: 0.0046\n",
      "Epoch 34/100\n",
      "5604/5604 [==============================] - 536s 96ms/step - loss: 0.0045 - val_loss: 0.0047\n",
      "Epoch 35/100\n",
      "5604/5604 [==============================] - 878s 157ms/step - loss: 0.0046 - val_loss: 0.0044\n",
      "Epoch 36/100\n",
      "5604/5604 [==============================] - 891s 159ms/step - loss: 0.0045 - val_loss: 0.0044\n",
      "Epoch 37/100\n",
      "5604/5604 [==============================] - 528s 94ms/step - loss: 0.0045 - val_loss: 0.0045\n",
      "Epoch 38/100\n",
      "5604/5604 [==============================] - 539s 96ms/step - loss: 0.0045 - val_loss: 0.0045\n",
      "Epoch 39/100\n",
      "5604/5604 [==============================] - 522s 93ms/step - loss: 0.0045 - val_loss: 0.0043\n",
      "Epoch 40/100\n",
      "5604/5604 [==============================] - 534s 95ms/step - loss: 0.0045 - val_loss: 0.0044\n",
      "Epoch 41/100\n",
      "5604/5604 [==============================] - 21580s 4s/step - loss: 0.0045 - val_loss: 0.0043\n",
      "Epoch 42/100\n",
      "5604/5604 [==============================] - 526s 94ms/step - loss: 0.0045 - val_loss: 0.0044\n",
      "Epoch 43/100\n",
      "5604/5604 [==============================] - 526s 94ms/step - loss: 0.0045 - val_loss: 0.0047\n",
      "Epoch 44/100\n",
      "5604/5604 [==============================] - 562s 100ms/step - loss: 0.0045 - val_loss: 0.0043\n",
      "Epoch 45/100\n",
      "5604/5604 [==============================] - 556s 99ms/step - loss: 0.0045 - val_loss: 0.0043\n",
      "Epoch 46/100\n",
      "5604/5604 [==============================] - 575s 103ms/step - loss: 0.0045 - val_loss: 0.0048\n",
      "Epoch 47/100\n",
      "5604/5604 [==============================] - 535s 95ms/step - loss: 0.0045 - val_loss: 0.0047\n",
      "Epoch 48/100\n",
      "5604/5604 [==============================] - 551s 98ms/step - loss: 0.0044 - val_loss: 0.0044\n",
      "Epoch 49/100\n",
      "5604/5604 [==============================] - 482s 86ms/step - loss: 0.0044 - val_loss: 0.0043\n",
      "Epoch 50/100\n",
      "5604/5604 [==============================] - 424s 76ms/step - loss: 0.0045 - val_loss: 0.0043\n",
      "Epoch 51/100\n",
      "5604/5604 [==============================] - 3426s 611ms/step - loss: 0.0044 - val_loss: 0.0043\n",
      "Epoch 52/100\n",
      "5604/5604 [==============================] - 2216s 395ms/step - loss: 0.0044 - val_loss: 0.0043\n",
      "Epoch 53/100\n",
      "5604/5604 [==============================] - 350s 62ms/step - loss: 0.0044 - val_loss: 0.0049\n",
      "Epoch 54/100\n",
      "5604/5604 [==============================] - 363s 65ms/step - loss: 0.0044 - val_loss: 0.0042\n",
      "Epoch 55/100\n",
      "5604/5604 [==============================] - 373s 67ms/step - loss: 0.0044 - val_loss: 0.0044\n",
      "Epoch 56/100\n",
      "5604/5604 [==============================] - 384s 68ms/step - loss: 0.0044 - val_loss: 0.0047\n",
      "Epoch 57/100\n",
      "5604/5604 [==============================] - 407s 73ms/step - loss: 0.0044 - val_loss: 0.0044\n",
      "Epoch 58/100\n",
      "5604/5604 [==============================] - 421s 75ms/step - loss: 0.0044 - val_loss: 0.0045\n",
      "Epoch 59/100\n",
      "5604/5604 [==============================] - 414s 74ms/step - loss: 0.0044 - val_loss: 0.0042\n",
      "Epoch 60/100\n",
      "5604/5604 [==============================] - 413s 74ms/step - loss: 0.0044 - val_loss: 0.0047\n",
      "Epoch 61/100\n",
      "5604/5604 [==============================] - 400s 71ms/step - loss: 0.0044 - val_loss: 0.0048\n",
      "Epoch 62/100\n",
      "5604/5604 [==============================] - 401s 72ms/step - loss: 0.0044 - val_loss: 0.0049\n",
      "Epoch 63/100\n",
      "5604/5604 [==============================] - 409s 73ms/step - loss: 0.0044 - val_loss: 0.0043\n",
      "Epoch 64/100\n",
      "5604/5604 [==============================] - 419s 75ms/step - loss: 0.0044 - val_loss: 0.0043\n",
      "Epoch 65/100\n",
      "5604/5604 [==============================] - 398s 71ms/step - loss: 0.0044 - val_loss: 0.0044\n",
      "Epoch 66/100\n",
      "5604/5604 [==============================] - 420s 75ms/step - loss: 0.0044 - val_loss: 0.0046\n",
      "Epoch 67/100\n",
      "5604/5604 [==============================] - 410s 73ms/step - loss: 0.0044 - val_loss: 0.0042\n",
      "Epoch 68/100\n",
      "5604/5604 [==============================] - 410s 73ms/step - loss: 0.0044 - val_loss: 0.0042\n",
      "Epoch 69/100\n",
      "5604/5604 [==============================] - 420s 75ms/step - loss: 0.0044 - val_loss: 0.0043\n",
      "Epoch 69: early stopping\n"
     ]
    }
   ],
   "source": [
    "model.compile(loss='mse',optimizer='adam')\n",
    "early_stop=EarlyStopping(monitor='val_loss',patience=10,verbose=1)\n",
    "history=model.fit(x_train,y_train,epochs=100,\n",
    "                  batch_size=1, verbose=1,\n",
    "                  validation_data=(x_valid,y_valid),\n",
    "                  callbacks=[early_stop])"
   ]
  },
  {
   "cell_type": "code",
   "execution_count": 10,
   "id": "e3b5af7a",
   "metadata": {},
   "outputs": [
    {
     "name": "stdout",
     "output_type": "stream",
     "text": [
      "1750/1750 [==============================] - 30s 17ms/step - loss: 0.0164\n"
     ]
    },
    {
     "data": {
      "text/plain": [
       "0.016352467238903046"
      ]
     },
     "execution_count": 10,
     "metadata": {},
     "output_type": "execute_result"
    }
   ],
   "source": [
    "testmse = model.evaluate(test_feature, test_label, batch_size=1)\n",
    "testmse"
   ]
  },
  {
   "cell_type": "code",
   "execution_count": 29,
   "id": "b6e92fb3",
   "metadata": {
    "scrolled": true
   },
   "outputs": [],
   "source": [
    "pred=model.predict(test_feature,batch_size=1)"
   ]
  },
  {
   "cell_type": "code",
   "execution_count": null,
   "id": "5a5e7bce",
   "metadata": {},
   "outputs": [],
   "source": []
  },
  {
   "cell_type": "code",
   "execution_count": 30,
   "id": "699a828d",
   "metadata": {},
   "outputs": [
    {
     "data": {
      "image/png": "[encoded data removed]",
      "text/plain": [
       "<Figure size 864x648 with 1 Axes>"
      ]
     },
     "metadata": {
      "needs_background": "light"
     },
     "output_type": "display_data"
    }
   ],
   "source": [
    "plt.figure(figsize=(12,9))\n",
    "plt.plot(test_label,label='actual')\n",
    "plt.plot(pred,label='prediction')\n",
    "plt.legend()\n",
    "plt.show()"
   ]
  },
  {
   "cell_type": "code",
   "execution_count": 31,
   "id": "b73a0e1c",
   "metadata": {},
   "outputs": [
    {
     "name": "stderr",
     "output_type": "stream",
     "text": [
      "2022-05-26 13:55:57.200500: W tensorflow/python/util/util.cc:368] Sets are not currently considered sequences, but this may change in the future, so consider avoiding using them.\n"
     ]
    },
    {
     "name": "stdout",
     "output_type": "stream",
     "text": [
      "INFO:tensorflow:Assets written to: ram://e9d296a7-0843-4caf-8e02-f0d97587f62c/assets\n"
     ]
    },
    {
     "name": "stderr",
     "output_type": "stream",
     "text": [
      "WARNING:absl:<keras.layers.recurrent.GRUCell object at 0x17b4c8c10> has the same name 'GRUCell' as a built-in Keras object. Consider renaming <class 'keras.layers.recurrent.GRUCell'> to avoid naming conflicts when loading with `tf.keras.models.load_model`. If renaming is not possible, pass the object in the `custom_objects` parameter of the load function.\n",
      "WARNING:absl:<keras.layers.recurrent.GRUCell object at 0x17c537d30> has the same name 'GRUCell' as a built-in Keras object. Consider renaming <class 'keras.layers.recurrent.GRUCell'> to avoid naming conflicts when loading with `tf.keras.models.load_model`. If renaming is not possible, pass the object in the `custom_objects` parameter of the load function.\n"
     ]
    }
   ],
   "source": [
    "pkl_path = \"model/model_rnn_eggo_gru.pkl\"\n",
    "with open(pkl_path, \"wb\") as f:\n",
    "    pickle.dump(model, f)"
   ]
  }
 ],
 "metadata": {
  "kernelspec": {
   "display_name": "Python 3 (ipykernel)",
   "language": "python",
   "name": "python3"
  },
  "language_info": {
   "codemirror_mode": {
    "name": "ipython",
    "version": 3
   },
   "file_extension": ".py",
   "mimetype": "text/x-python",
   "name": "python",
   "nbconvert_exporter": "python",
   "pygments_lexer": "ipython3",
   "version": "3.8.13"
  }
 },
 "nbformat": 4,
 "nbformat_minor": 5
}
